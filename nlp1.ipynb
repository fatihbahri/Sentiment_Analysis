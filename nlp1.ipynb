{
 "cells": [
  {
   "cell_type": "markdown",
   "id": "f61c8721",
   "metadata": {},
   "source": [
    "# Libraries"
   ]
  },
  {
   "cell_type": "code",
   "execution_count": 136,
   "id": "3e977e90",
   "metadata": {},
   "outputs": [],
   "source": [
    "import numpy as np\n",
    "import pandas as pd\n",
    "import re\n",
    "import nltk\n",
    "from nltk.stem.porter import PorterStemmer\n",
    "from nltk.corpus import stopwords\n",
    "from sklearn.feature_extraction.text import CountVectorizer\n",
    "from sklearn.model_selection import train_test_split\n",
    "from sklearn.naive_bayes import GaussianNB\n",
    "from sklearn.metrics import confusion_matrix, accuracy_score"
   ]
  },
  {
   "cell_type": "markdown",
   "id": "63934406",
   "metadata": {},
   "source": [
    "Download Stop Words"
   ]
  },
  {
   "cell_type": "code",
   "execution_count": 137,
   "id": "689fa67f",
   "metadata": {},
   "outputs": [
    {
     "name": "stderr",
     "output_type": "stream",
     "text": [
      "[nltk_data] Downloading package stopwords to\n",
      "[nltk_data]     C:\\Users\\pc\\AppData\\Roaming\\nltk_data...\n",
      "[nltk_data]   Package stopwords is already up-to-date!\n"
     ]
    },
    {
     "data": {
      "text/plain": [
       "True"
      ]
     },
     "execution_count": 137,
     "metadata": {},
     "output_type": "execute_result"
    }
   ],
   "source": [
    "ps = PorterStemmer()\n",
    "nltk.download('stopwords')"
   ]
  },
  {
   "cell_type": "markdown",
   "id": "31a07e04",
   "metadata": {},
   "source": [
    "# Stop Words Process"
   ]
  },
  {
   "cell_type": "markdown",
   "id": "1281087b",
   "metadata": {},
   "source": [
    "Add new words to stop words which is downloaded from the lib"
   ]
  },
  {
   "cell_type": "code",
   "execution_count": 138,
   "id": "a428e0de",
   "metadata": {},
   "outputs": [
    {
     "name": "stdout",
     "output_type": "stream",
     "text": [
      "['acaba', 'ama', 'aslinda', 'az', 'bazi', 'belki', 'biri', 'birkac', 'birsey', 'biz', 'bu', 'cok', 'cunku', 'da', 'daha', 'de', 'defa', 'diye', 'eger', 'en', 'gibi', 'hem', 'hep', 'hepsi', 'her', 'hic', 'icin', 'ile', 'ise', 'kez', 'ki', 'kim', 'mi', 'mu', 'mu', 'nasil', 'ne', 'neden', 'nerde', 'nerede', 'nereye', 'nicin', 'niye', 'o', 'sanki', 'sey', 'siz', 'su', 'tum', 've', 'veya', 'ya', 'yani', 'urun', 'gunde', '1 gun', '1 gunde', '2 gun', '2 gunde', '3 gun', '3 gunde', 'gayet', 'fatura', 'trendyol', 'hepsiburada', 'elime ulasti']\n"
     ]
    }
   ],
   "source": [
    "stp_words = stopwords.words('turkish')\n",
    "tr_to_en = str.maketrans(\"çğıöşüÇĞİÖŞÜ\", \"cgiosuCGIOSU\")\n",
    "for wrd in range(len(stp_words)):\n",
    "    stp_words[wrd] = stp_words[wrd].translate(tr_to_en)\n",
    "new_words = ['urun', 'gunde', '1 gun', '1 gunde', '2 gun', '2 gunde', '3 gun', '3 gunde', 'gayet', 'fatura', 'trendyol', 'hepsiburada', 'elime ulasti']\n",
    "for words in new_words:\n",
    "    stp_words.append(words)\n",
    "print(stp_words)"
   ]
  },
  {
   "cell_type": "markdown",
   "id": "05a2bb55",
   "metadata": {},
   "source": [
    "Import Dataset and eliminate stop words"
   ]
  },
  {
   "cell_type": "code",
   "execution_count": 139,
   "id": "8b1b0870",
   "metadata": {},
   "outputs": [],
   "source": [
    "rev = []\n",
    "data2 = pd.read_csv('data_shuffle.csv', sep=';')\n",
    "for i in range(len(data2['Reviews'])):\n",
    "    review = str(data2['Reviews'][i])\n",
    "    review = review.split()\n",
    "    review = [ps.stem(words) for words in review if not words in set(stp_words)]\n",
    "    review = ' '.join(review)\n",
    "    rev.append(review)\n",
    "#print(rev)"
   ]
  },
  {
   "cell_type": "markdown",
   "id": "75487eb0",
   "metadata": {},
   "source": [
    "Creating vector"
   ]
  },
  {
   "cell_type": "code",
   "execution_count": 140,
   "id": "a51aa6dd",
   "metadata": {},
   "outputs": [],
   "source": [
    "cv = CountVectorizer(max_features=75000,ngram_range=(1,2))"
   ]
  },
  {
   "cell_type": "code",
   "execution_count": 141,
   "id": "7efbf303",
   "metadata": {},
   "outputs": [],
   "source": [
    "X = cv.fit_transform(rev).toarray()"
   ]
  },
  {
   "cell_type": "code",
   "execution_count": 142,
   "id": "ea703260",
   "metadata": {},
   "outputs": [],
   "source": [
    "y = data2.iloc[:, 1].values # Ratings"
   ]
  },
  {
   "cell_type": "markdown",
   "id": "58d9cc62",
   "metadata": {},
   "source": [
    "Creating Train and Test variables"
   ]
  },
  {
   "cell_type": "code",
   "execution_count": 143,
   "id": "00b296e2",
   "metadata": {},
   "outputs": [],
   "source": [
    "X_train, X_test, y_train, y_test = train_test_split(X, y, test_size=0.20, random_state=0)"
   ]
  },
  {
   "cell_type": "markdown",
   "id": "27f4a738",
   "metadata": {},
   "source": [
    "Using Guassian Naive Bayes"
   ]
  },
  {
   "cell_type": "code",
   "execution_count": 144,
   "id": "12da68da",
   "metadata": {},
   "outputs": [],
   "source": [
    "gnb = GaussianNB()"
   ]
  },
  {
   "cell_type": "code",
   "execution_count": 145,
   "id": "7357c07f",
   "metadata": {},
   "outputs": [
    {
     "data": {
      "text/plain": [
       "GaussianNB()"
      ]
     },
     "execution_count": 145,
     "metadata": {},
     "output_type": "execute_result"
    }
   ],
   "source": [
    "gnb.fit(X_train,y_train)"
   ]
  },
  {
   "cell_type": "code",
   "execution_count": 146,
   "id": "d6e41d56",
   "metadata": {},
   "outputs": [],
   "source": [
    "y_predict = gnb.predict(X_test)"
   ]
  },
  {
   "cell_type": "markdown",
   "id": "e8419af5",
   "metadata": {},
   "source": [
    "# Model Evulation"
   ]
  },
  {
   "cell_type": "markdown",
   "id": "c38f9842",
   "metadata": {},
   "source": [
    "Confisuon Matrix"
   ]
  },
  {
   "cell_type": "code",
   "execution_count": 147,
   "id": "1ffb10e1",
   "metadata": {},
   "outputs": [
    {
     "name": "stdout",
     "output_type": "stream",
     "text": [
      "[[123  90]\n",
      " [ 51 385]]\n"
     ]
    }
   ],
   "source": [
    "cm = confusion_matrix(y_test, y_predict)\n",
    "print(cm)"
   ]
  },
  {
   "cell_type": "markdown",
   "id": "70def147",
   "metadata": {},
   "source": [
    "Accuracy Rate"
   ]
  },
  {
   "cell_type": "code",
   "execution_count": 150,
   "id": "b0c59aca",
   "metadata": {},
   "outputs": [
    {
     "name": "stdout",
     "output_type": "stream",
     "text": [
      "Accuracy: 78.27426810477658 %\n"
     ]
    }
   ],
   "source": [
    "print('Accuracy:', accuracy_score(y_test,y_predict)*100, '%')"
   ]
  }
 ],
 "metadata": {
  "kernelspec": {
   "display_name": "Python 3",
   "language": "python",
   "name": "python3"
  },
  "language_info": {
   "codemirror_mode": {
    "name": "ipython",
    "version": 3
   },
   "file_extension": ".py",
   "mimetype": "text/x-python",
   "name": "python",
   "nbconvert_exporter": "python",
   "pygments_lexer": "ipython3",
   "version": "3.8.8"
  }
 },
 "nbformat": 4,
 "nbformat_minor": 5
}
